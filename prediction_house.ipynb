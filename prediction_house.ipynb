{
  "nbformat": 4,
  "nbformat_minor": 0,
  "metadata": {
    "colab": {
      "name": "Course_2_Meeting_in_Class_21_Apr_18_for_me.ipynb",
      "provenance": [],
      "collapsed_sections": [
        "JuYII0d9B_d4"
      ]
    },
    "kernelspec": {
      "name": "python3",
      "display_name": "Python 3"
    },
    "language_info": {
      "name": "python"
    }
  },
  "cells": [
    {
      "cell_type": "markdown",
      "source": [
        "<h1 align=center><font size = 5>Meeting in Clas 21 - Prediction with Python</font></h1>"
      ],
      "metadata": {
        "id": "bi813ozzGnpR"
      }
    },
    {
      "cell_type": "markdown",
      "source": [
        "Dataset ini berisi harga jual rumah untuk King County, yang mencakup Seattle. Data ini termasuk data penjualan rumah antara bulan Mei 2014 dan bulan Mei 2015."
      ],
      "metadata": {
        "id": "NinxxE1955aT"
      }
    },
    {
      "cell_type": "markdown",
      "source": [
        "| Variable      | Description                                                                                                 |\n",
        "| ------------- | ----------------------------------------------------------------------------------------------------------- |\n",
        "| id            | A notation for a house                                                                                      |\n",
        "| date          | Date house was sold                                                                                         |\n",
        "| price         | Price is prediction target                                                                                  |\n",
        "| bedrooms      | Number of bedrooms                                                                                          |\n",
        "| bathrooms     | Number of bathrooms                                                                                         |\n",
        "| sqft_living   | Square footage of the home                                                                                  |\n",
        "| sqft_lot      | Square footage of the lot                                                                                   |\n",
        "| floors        | Total floors (levels) in house                                                                              |\n",
        "| waterfront    | House which has a view to a waterfront                                                                      |\n",
        "| view          | Has been viewed                                                                                             |\n",
        "| condition     | How good the condition is overall                                                                           |\n",
        "| grade         | overall grade given to the housing unit, based on King County grading system                                |\n",
        "| sqft_above    | Square footage of house apart from basement                                                                 |\n",
        "| sqft_basement | Square footage of the basement                                                                              |\n",
        "| yr_built      | Built Year                                                                                                  |\n",
        "| yr_renovated  | Year when house was renovated                                                                               |\n",
        "| zipcode       | Zip code                                                                                                    |\n",
        "| lat           | Latitude coordinate                                                                                         |\n",
        "| long          | Longitude coordinate                                                                                        |\n",
        "| sqft_living15 | Living room area in 2015(implies-- some renovations) This might or might not have affected the lotsize area |\n",
        "| sqft_lot15    | LotSize area in 2015(implies-- some renovations)                                                            |\n"
      ],
      "metadata": {
        "id": "Qm6dZMaL5-rZ"
      }
    },
    {
      "cell_type": "markdown",
      "source": [
        "## Prediction with Python - Part 1"
      ],
      "metadata": {
        "id": "6PBqn0S3PfHB"
      }
    },
    {
      "cell_type": "markdown",
      "source": [
        "### 1 Importing dependencies\n",
        "\n",
        ">Kita akan meng import software library yang diperlukan untuk sesi ini"
      ],
      "metadata": {
        "id": "SSPZaIyo_T75"
      }
    },
    {
      "cell_type": "code",
      "source": [
        "import pandas as pd\n",
        "import matplotlib.pyplot as plt\n",
        "import numpy as np\n",
        "import seaborn as sns\n",
        "from sklearn.pipeline import Pipeline #Sequentially apply a list of transforms and a final estimator. This is necessary to calculcate R^2\n",
        "from sklearn.preprocessing import StandardScaler,PolynomialFeatures #StandardScaler = Standardize features by removing the mean and scaling to unit variance. | PolynomialFeatures = Generate polynomial and interaction features.\n",
        "from sklearn.linear_model import LinearRegression\n",
        "%matplotlib inline"
      ],
      "metadata": {
        "id": "fnusamGNL6gH"
      },
      "execution_count": 1,
      "outputs": []
    },
    {
      "cell_type": "markdown",
      "source": [
        ">%matplotlib is a magic function in IPython. IPython has a set of predefined ‘magic functions’ that you can call with a command line style syntax. There are two kinds of magics, line-oriented and cell-oriented. Line magics are prefixed with the % character and work much like OS command-line calls: they get as an argument the rest of the line, where arguments are passed without parentheses or quotes. Lines magics can return results and can be used in the right hand side of an assignment. Cell magics are prefixed with a double %%, and they are functions that get as an argument not only the rest of the line, but also the lines below it in a separate argument.\n",
        "\n",
        ">%matplotlib inline sets the backend of matplotlib to the 'inline' backend:\n",
        "\n",
        ">With this backend, the output of plotting commands is displayed inline within frontends like the Jupyter notebook, directly below the code cell that produced it. The resulting plots will then also be stored in the notebook document.\n",
        "\n",
        ">When using the 'inline' backend, your matplotlib graphs will be included in your notebook, next to the code. It may be worth also reading How to make IPython notebook matplotlib plot inline for reference on how to use it in your code."
      ],
      "metadata": {
        "id": "uth0kIqdJg_1"
      }
    },
    {
      "cell_type": "markdown",
      "source": [
        "### 2 Uploading the data into Jupyter notebook\n",
        "\n",
        ">Kita akan meng upload file kc_house_data_NaN.csv dari cloud kedalam Jupyter notebook di google colabs ini"
      ],
      "metadata": {
        "id": "DxgZ8htK_9Pk"
      }
    },
    {
      "cell_type": "code",
      "source": [
        "from google.colab import drive\n",
        "drive.mount('/content/drive')"
      ],
      "metadata": {
        "colab": {
          "base_uri": "https://localhost:8080/"
        },
        "id": "--SGT2XL6WlK",
        "outputId": "bb43ea82-30c7-4f82-e592-f5f727d85043"
      },
      "execution_count": 2,
      "outputs": [
        {
          "output_type": "stream",
          "name": "stdout",
          "text": [
            "Mounted at /content/drive\n"
          ]
        }
      ]
    },
    {
      "cell_type": "code",
      "execution_count": 3,
      "metadata": {
        "id": "zBm9z86WIyQF"
      },
      "outputs": [],
      "source": [
        "#file_name='https://cf-courses-data.s3.us.cloud-object-storage.appdomain.cloud/IBMDeveloperSkillsNetwork-DA0101EN-SkillsNetwork/labs/FinalModule_Coursera/data/kc_house_data_NaN.csv'\n",
        "df=pd.read_csv('/content/drive/MyDrive/Colab Notebooks/kc_house_data_NaN.csv')"
      ]
    },
    {
      "cell_type": "markdown",
      "source": [
        "Sebagai alternatif, file kc_house_data_NaN.csv juga disertakan bersama dengan file ipynb, sehingga apabila tidak dapat men download langsung, dpt meng upload file tsb kedalam colabs via content maupun link ke google drive"
      ],
      "metadata": {
        "id": "fIVtBz56J5gG"
      }
    },
    {
      "cell_type": "markdown",
      "source": [
        "### 3 Data Exploration\n",
        "\n",
        ">Kita akan berusaha memahami dan memperoleh pengetahuan lebih banyak tentang data yang kita upload"
      ],
      "metadata": {
        "id": "YJq6KMsNBv7c"
      }
    },
    {
      "cell_type": "code",
      "source": [
        "df.head() #memperlihatkan n baris awal dari sebuah pandas dataframe (default n = 5)"
      ],
      "metadata": {
        "colab": {
          "base_uri": "https://localhost:8080/",
          "height": 317
        },
        "id": "C9OMS6PdMbim",
        "outputId": "e3fb4dfd-85a6-4876-b228-c1a5e78050b9"
      },
      "execution_count": 4,
      "outputs": [
        {
          "output_type": "execute_result",
          "data": {
            "text/plain": [
              "   Unnamed: 0          id             date     price  bedrooms  bathrooms  \\\n",
              "0           0  7129300520  20141013T000000  221900.0       3.0       1.00   \n",
              "1           1  6414100192  20141209T000000  538000.0       3.0       2.25   \n",
              "2           2  5631500400  20150225T000000  180000.0       2.0       1.00   \n",
              "3           3  2487200875  20141209T000000  604000.0       4.0       3.00   \n",
              "4           4  1954400510  20150218T000000  510000.0       3.0       2.00   \n",
              "\n",
              "   sqft_living  sqft_lot  floors  waterfront  ...  grade  sqft_above  \\\n",
              "0         1180      5650     1.0           0  ...      7        1180   \n",
              "1         2570      7242     2.0           0  ...      7        2170   \n",
              "2          770     10000     1.0           0  ...      6         770   \n",
              "3         1960      5000     1.0           0  ...      7        1050   \n",
              "4         1680      8080     1.0           0  ...      8        1680   \n",
              "\n",
              "   sqft_basement  yr_built  yr_renovated  zipcode      lat     long  \\\n",
              "0              0      1955             0    98178  47.5112 -122.257   \n",
              "1            400      1951          1991    98125  47.7210 -122.319   \n",
              "2              0      1933             0    98028  47.7379 -122.233   \n",
              "3            910      1965             0    98136  47.5208 -122.393   \n",
              "4              0      1987             0    98074  47.6168 -122.045   \n",
              "\n",
              "   sqft_living15  sqft_lot15  \n",
              "0           1340        5650  \n",
              "1           1690        7639  \n",
              "2           2720        8062  \n",
              "3           1360        5000  \n",
              "4           1800        7503  \n",
              "\n",
              "[5 rows x 22 columns]"
            ],
            "text/html": [
              "\n",
              "  <div id=\"df-1d3362ff-d285-4a76-97f8-d44ec6e96cd2\">\n",
              "    <div class=\"colab-df-container\">\n",
              "      <div>\n",
              "<style scoped>\n",
              "    .dataframe tbody tr th:only-of-type {\n",
              "        vertical-align: middle;\n",
              "    }\n",
              "\n",
              "    .dataframe tbody tr th {\n",
              "        vertical-align: top;\n",
              "    }\n",
              "\n",
              "    .dataframe thead th {\n",
              "        text-align: right;\n",
              "    }\n",
              "</style>\n",
              "<table border=\"1\" class=\"dataframe\">\n",
              "  <thead>\n",
              "    <tr style=\"text-align: right;\">\n",
              "      <th></th>\n",
              "      <th>Unnamed: 0</th>\n",
              "      <th>id</th>\n",
              "      <th>date</th>\n",
              "      <th>price</th>\n",
              "      <th>bedrooms</th>\n",
              "      <th>bathrooms</th>\n",
              "      <th>sqft_living</th>\n",
              "      <th>sqft_lot</th>\n",
              "      <th>floors</th>\n",
              "      <th>waterfront</th>\n",
              "      <th>...</th>\n",
              "      <th>grade</th>\n",
              "      <th>sqft_above</th>\n",
              "      <th>sqft_basement</th>\n",
              "      <th>yr_built</th>\n",
              "      <th>yr_renovated</th>\n",
              "      <th>zipcode</th>\n",
              "      <th>lat</th>\n",
              "      <th>long</th>\n",
              "      <th>sqft_living15</th>\n",
              "      <th>sqft_lot15</th>\n",
              "    </tr>\n",
              "  </thead>\n",
              "  <tbody>\n",
              "    <tr>\n",
              "      <th>0</th>\n",
              "      <td>0</td>\n",
              "      <td>7129300520</td>\n",
              "      <td>20141013T000000</td>\n",
              "      <td>221900.0</td>\n",
              "      <td>3.0</td>\n",
              "      <td>1.00</td>\n",
              "      <td>1180</td>\n",
              "      <td>5650</td>\n",
              "      <td>1.0</td>\n",
              "      <td>0</td>\n",
              "      <td>...</td>\n",
              "      <td>7</td>\n",
              "      <td>1180</td>\n",
              "      <td>0</td>\n",
              "      <td>1955</td>\n",
              "      <td>0</td>\n",
              "      <td>98178</td>\n",
              "      <td>47.5112</td>\n",
              "      <td>-122.257</td>\n",
              "      <td>1340</td>\n",
              "      <td>5650</td>\n",
              "    </tr>\n",
              "    <tr>\n",
              "      <th>1</th>\n",
              "      <td>1</td>\n",
              "      <td>6414100192</td>\n",
              "      <td>20141209T000000</td>\n",
              "      <td>538000.0</td>\n",
              "      <td>3.0</td>\n",
              "      <td>2.25</td>\n",
              "      <td>2570</td>\n",
              "      <td>7242</td>\n",
              "      <td>2.0</td>\n",
              "      <td>0</td>\n",
              "      <td>...</td>\n",
              "      <td>7</td>\n",
              "      <td>2170</td>\n",
              "      <td>400</td>\n",
              "      <td>1951</td>\n",
              "      <td>1991</td>\n",
              "      <td>98125</td>\n",
              "      <td>47.7210</td>\n",
              "      <td>-122.319</td>\n",
              "      <td>1690</td>\n",
              "      <td>7639</td>\n",
              "    </tr>\n",
              "    <tr>\n",
              "      <th>2</th>\n",
              "      <td>2</td>\n",
              "      <td>5631500400</td>\n",
              "      <td>20150225T000000</td>\n",
              "      <td>180000.0</td>\n",
              "      <td>2.0</td>\n",
              "      <td>1.00</td>\n",
              "      <td>770</td>\n",
              "      <td>10000</td>\n",
              "      <td>1.0</td>\n",
              "      <td>0</td>\n",
              "      <td>...</td>\n",
              "      <td>6</td>\n",
              "      <td>770</td>\n",
              "      <td>0</td>\n",
              "      <td>1933</td>\n",
              "      <td>0</td>\n",
              "      <td>98028</td>\n",
              "      <td>47.7379</td>\n",
              "      <td>-122.233</td>\n",
              "      <td>2720</td>\n",
              "      <td>8062</td>\n",
              "    </tr>\n",
              "    <tr>\n",
              "      <th>3</th>\n",
              "      <td>3</td>\n",
              "      <td>2487200875</td>\n",
              "      <td>20141209T000000</td>\n",
              "      <td>604000.0</td>\n",
              "      <td>4.0</td>\n",
              "      <td>3.00</td>\n",
              "      <td>1960</td>\n",
              "      <td>5000</td>\n",
              "      <td>1.0</td>\n",
              "      <td>0</td>\n",
              "      <td>...</td>\n",
              "      <td>7</td>\n",
              "      <td>1050</td>\n",
              "      <td>910</td>\n",
              "      <td>1965</td>\n",
              "      <td>0</td>\n",
              "      <td>98136</td>\n",
              "      <td>47.5208</td>\n",
              "      <td>-122.393</td>\n",
              "      <td>1360</td>\n",
              "      <td>5000</td>\n",
              "    </tr>\n",
              "    <tr>\n",
              "      <th>4</th>\n",
              "      <td>4</td>\n",
              "      <td>1954400510</td>\n",
              "      <td>20150218T000000</td>\n",
              "      <td>510000.0</td>\n",
              "      <td>3.0</td>\n",
              "      <td>2.00</td>\n",
              "      <td>1680</td>\n",
              "      <td>8080</td>\n",
              "      <td>1.0</td>\n",
              "      <td>0</td>\n",
              "      <td>...</td>\n",
              "      <td>8</td>\n",
              "      <td>1680</td>\n",
              "      <td>0</td>\n",
              "      <td>1987</td>\n",
              "      <td>0</td>\n",
              "      <td>98074</td>\n",
              "      <td>47.6168</td>\n",
              "      <td>-122.045</td>\n",
              "      <td>1800</td>\n",
              "      <td>7503</td>\n",
              "    </tr>\n",
              "  </tbody>\n",
              "</table>\n",
              "<p>5 rows × 22 columns</p>\n",
              "</div>\n",
              "      <button class=\"colab-df-convert\" onclick=\"convertToInteractive('df-1d3362ff-d285-4a76-97f8-d44ec6e96cd2')\"\n",
              "              title=\"Convert this dataframe to an interactive table.\"\n",
              "              style=\"display:none;\">\n",
              "        \n",
              "  <svg xmlns=\"http://www.w3.org/2000/svg\" height=\"24px\"viewBox=\"0 0 24 24\"\n",
              "       width=\"24px\">\n",
              "    <path d=\"M0 0h24v24H0V0z\" fill=\"none\"/>\n",
              "    <path d=\"M18.56 5.44l.94 2.06.94-2.06 2.06-.94-2.06-.94-.94-2.06-.94 2.06-2.06.94zm-11 1L8.5 8.5l.94-2.06 2.06-.94-2.06-.94L8.5 2.5l-.94 2.06-2.06.94zm10 10l.94 2.06.94-2.06 2.06-.94-2.06-.94-.94-2.06-.94 2.06-2.06.94z\"/><path d=\"M17.41 7.96l-1.37-1.37c-.4-.4-.92-.59-1.43-.59-.52 0-1.04.2-1.43.59L10.3 9.45l-7.72 7.72c-.78.78-.78 2.05 0 2.83L4 21.41c.39.39.9.59 1.41.59.51 0 1.02-.2 1.41-.59l7.78-7.78 2.81-2.81c.8-.78.8-2.07 0-2.86zM5.41 20L4 18.59l7.72-7.72 1.47 1.35L5.41 20z\"/>\n",
              "  </svg>\n",
              "      </button>\n",
              "      \n",
              "  <style>\n",
              "    .colab-df-container {\n",
              "      display:flex;\n",
              "      flex-wrap:wrap;\n",
              "      gap: 12px;\n",
              "    }\n",
              "\n",
              "    .colab-df-convert {\n",
              "      background-color: #E8F0FE;\n",
              "      border: none;\n",
              "      border-radius: 50%;\n",
              "      cursor: pointer;\n",
              "      display: none;\n",
              "      fill: #1967D2;\n",
              "      height: 32px;\n",
              "      padding: 0 0 0 0;\n",
              "      width: 32px;\n",
              "    }\n",
              "\n",
              "    .colab-df-convert:hover {\n",
              "      background-color: #E2EBFA;\n",
              "      box-shadow: 0px 1px 2px rgba(60, 64, 67, 0.3), 0px 1px 3px 1px rgba(60, 64, 67, 0.15);\n",
              "      fill: #174EA6;\n",
              "    }\n",
              "\n",
              "    [theme=dark] .colab-df-convert {\n",
              "      background-color: #3B4455;\n",
              "      fill: #D2E3FC;\n",
              "    }\n",
              "\n",
              "    [theme=dark] .colab-df-convert:hover {\n",
              "      background-color: #434B5C;\n",
              "      box-shadow: 0px 1px 3px 1px rgba(0, 0, 0, 0.15);\n",
              "      filter: drop-shadow(0px 1px 2px rgba(0, 0, 0, 0.3));\n",
              "      fill: #FFFFFF;\n",
              "    }\n",
              "  </style>\n",
              "\n",
              "      <script>\n",
              "        const buttonEl =\n",
              "          document.querySelector('#df-1d3362ff-d285-4a76-97f8-d44ec6e96cd2 button.colab-df-convert');\n",
              "        buttonEl.style.display =\n",
              "          google.colab.kernel.accessAllowed ? 'block' : 'none';\n",
              "\n",
              "        async function convertToInteractive(key) {\n",
              "          const element = document.querySelector('#df-1d3362ff-d285-4a76-97f8-d44ec6e96cd2');\n",
              "          const dataTable =\n",
              "            await google.colab.kernel.invokeFunction('convertToInteractive',\n",
              "                                                     [key], {});\n",
              "          if (!dataTable) return;\n",
              "\n",
              "          const docLinkHtml = 'Like what you see? Visit the ' +\n",
              "            '<a target=\"_blank\" href=https://colab.research.google.com/notebooks/data_table.ipynb>data table notebook</a>'\n",
              "            + ' to learn more about interactive tables.';\n",
              "          element.innerHTML = '';\n",
              "          dataTable['output_type'] = 'display_data';\n",
              "          await google.colab.output.renderOutput(dataTable, element);\n",
              "          const docLink = document.createElement('div');\n",
              "          docLink.innerHTML = docLinkHtml;\n",
              "          element.appendChild(docLink);\n",
              "        }\n",
              "      </script>\n",
              "    </div>\n",
              "  </div>\n",
              "  "
            ]
          },
          "metadata": {},
          "execution_count": 4
        }
      ]
    },
    {
      "cell_type": "code",
      "source": [
        "df.tail() #memperlihatkan n baris akhir dari sebuah pandas dataframe (default n = 5)"
      ],
      "metadata": {
        "colab": {
          "base_uri": "https://localhost:8080/",
          "height": 317
        },
        "id": "DGb7zueqM8OO",
        "outputId": "883a4de5-0c20-4fa3-a273-df35f088ab45"
      },
      "execution_count": 5,
      "outputs": [
        {
          "output_type": "execute_result",
          "data": {
            "text/plain": [
              "       Unnamed: 0          id             date     price  bedrooms  bathrooms  \\\n",
              "21608       21608   263000018  20140521T000000  360000.0       3.0       2.50   \n",
              "21609       21609  6600060120  20150223T000000  400000.0       4.0       2.50   \n",
              "21610       21610  1523300141  20140623T000000  402101.0       2.0       0.75   \n",
              "21611       21611   291310100  20150116T000000  400000.0       3.0       2.50   \n",
              "21612       21612  1523300157  20141015T000000  325000.0       2.0       0.75   \n",
              "\n",
              "       sqft_living  sqft_lot  floors  waterfront  ...  grade  sqft_above  \\\n",
              "21608         1530      1131     3.0           0  ...      8        1530   \n",
              "21609         2310      5813     2.0           0  ...      8        2310   \n",
              "21610         1020      1350     2.0           0  ...      7        1020   \n",
              "21611         1600      2388     2.0           0  ...      8        1600   \n",
              "21612         1020      1076     2.0           0  ...      7        1020   \n",
              "\n",
              "       sqft_basement  yr_built  yr_renovated  zipcode      lat     long  \\\n",
              "21608              0      2009             0    98103  47.6993 -122.346   \n",
              "21609              0      2014             0    98146  47.5107 -122.362   \n",
              "21610              0      2009             0    98144  47.5944 -122.299   \n",
              "21611              0      2004             0    98027  47.5345 -122.069   \n",
              "21612              0      2008             0    98144  47.5941 -122.299   \n",
              "\n",
              "       sqft_living15  sqft_lot15  \n",
              "21608           1530        1509  \n",
              "21609           1830        7200  \n",
              "21610           1020        2007  \n",
              "21611           1410        1287  \n",
              "21612           1020        1357  \n",
              "\n",
              "[5 rows x 22 columns]"
            ],
            "text/html": [
              "\n",
              "  <div id=\"df-3df0e95c-2edc-4ecd-bc05-9485f815e99c\">\n",
              "    <div class=\"colab-df-container\">\n",
              "      <div>\n",
              "<style scoped>\n",
              "    .dataframe tbody tr th:only-of-type {\n",
              "        vertical-align: middle;\n",
              "    }\n",
              "\n",
              "    .dataframe tbody tr th {\n",
              "        vertical-align: top;\n",
              "    }\n",
              "\n",
              "    .dataframe thead th {\n",
              "        text-align: right;\n",
              "    }\n",
              "</style>\n",
              "<table border=\"1\" class=\"dataframe\">\n",
              "  <thead>\n",
              "    <tr style=\"text-align: right;\">\n",
              "      <th></th>\n",
              "      <th>Unnamed: 0</th>\n",
              "      <th>id</th>\n",
              "      <th>date</th>\n",
              "      <th>price</th>\n",
              "      <th>bedrooms</th>\n",
              "      <th>bathrooms</th>\n",
              "      <th>sqft_living</th>\n",
              "      <th>sqft_lot</th>\n",
              "      <th>floors</th>\n",
              "      <th>waterfront</th>\n",
              "      <th>...</th>\n",
              "      <th>grade</th>\n",
              "      <th>sqft_above</th>\n",
              "      <th>sqft_basement</th>\n",
              "      <th>yr_built</th>\n",
              "      <th>yr_renovated</th>\n",
              "      <th>zipcode</th>\n",
              "      <th>lat</th>\n",
              "      <th>long</th>\n",
              "      <th>sqft_living15</th>\n",
              "      <th>sqft_lot15</th>\n",
              "    </tr>\n",
              "  </thead>\n",
              "  <tbody>\n",
              "    <tr>\n",
              "      <th>21608</th>\n",
              "      <td>21608</td>\n",
              "      <td>263000018</td>\n",
              "      <td>20140521T000000</td>\n",
              "      <td>360000.0</td>\n",
              "      <td>3.0</td>\n",
              "      <td>2.50</td>\n",
              "      <td>1530</td>\n",
              "      <td>1131</td>\n",
              "      <td>3.0</td>\n",
              "      <td>0</td>\n",
              "      <td>...</td>\n",
              "      <td>8</td>\n",
              "      <td>1530</td>\n",
              "      <td>0</td>\n",
              "      <td>2009</td>\n",
              "      <td>0</td>\n",
              "      <td>98103</td>\n",
              "      <td>47.6993</td>\n",
              "      <td>-122.346</td>\n",
              "      <td>1530</td>\n",
              "      <td>1509</td>\n",
              "    </tr>\n",
              "    <tr>\n",
              "      <th>21609</th>\n",
              "      <td>21609</td>\n",
              "      <td>6600060120</td>\n",
              "      <td>20150223T000000</td>\n",
              "      <td>400000.0</td>\n",
              "      <td>4.0</td>\n",
              "      <td>2.50</td>\n",
              "      <td>2310</td>\n",
              "      <td>5813</td>\n",
              "      <td>2.0</td>\n",
              "      <td>0</td>\n",
              "      <td>...</td>\n",
              "      <td>8</td>\n",
              "      <td>2310</td>\n",
              "      <td>0</td>\n",
              "      <td>2014</td>\n",
              "      <td>0</td>\n",
              "      <td>98146</td>\n",
              "      <td>47.5107</td>\n",
              "      <td>-122.362</td>\n",
              "      <td>1830</td>\n",
              "      <td>7200</td>\n",
              "    </tr>\n",
              "    <tr>\n",
              "      <th>21610</th>\n",
              "      <td>21610</td>\n",
              "      <td>1523300141</td>\n",
              "      <td>20140623T000000</td>\n",
              "      <td>402101.0</td>\n",
              "      <td>2.0</td>\n",
              "      <td>0.75</td>\n",
              "      <td>1020</td>\n",
              "      <td>1350</td>\n",
              "      <td>2.0</td>\n",
              "      <td>0</td>\n",
              "      <td>...</td>\n",
              "      <td>7</td>\n",
              "      <td>1020</td>\n",
              "      <td>0</td>\n",
              "      <td>2009</td>\n",
              "      <td>0</td>\n",
              "      <td>98144</td>\n",
              "      <td>47.5944</td>\n",
              "      <td>-122.299</td>\n",
              "      <td>1020</td>\n",
              "      <td>2007</td>\n",
              "    </tr>\n",
              "    <tr>\n",
              "      <th>21611</th>\n",
              "      <td>21611</td>\n",
              "      <td>291310100</td>\n",
              "      <td>20150116T000000</td>\n",
              "      <td>400000.0</td>\n",
              "      <td>3.0</td>\n",
              "      <td>2.50</td>\n",
              "      <td>1600</td>\n",
              "      <td>2388</td>\n",
              "      <td>2.0</td>\n",
              "      <td>0</td>\n",
              "      <td>...</td>\n",
              "      <td>8</td>\n",
              "      <td>1600</td>\n",
              "      <td>0</td>\n",
              "      <td>2004</td>\n",
              "      <td>0</td>\n",
              "      <td>98027</td>\n",
              "      <td>47.5345</td>\n",
              "      <td>-122.069</td>\n",
              "      <td>1410</td>\n",
              "      <td>1287</td>\n",
              "    </tr>\n",
              "    <tr>\n",
              "      <th>21612</th>\n",
              "      <td>21612</td>\n",
              "      <td>1523300157</td>\n",
              "      <td>20141015T000000</td>\n",
              "      <td>325000.0</td>\n",
              "      <td>2.0</td>\n",
              "      <td>0.75</td>\n",
              "      <td>1020</td>\n",
              "      <td>1076</td>\n",
              "      <td>2.0</td>\n",
              "      <td>0</td>\n",
              "      <td>...</td>\n",
              "      <td>7</td>\n",
              "      <td>1020</td>\n",
              "      <td>0</td>\n",
              "      <td>2008</td>\n",
              "      <td>0</td>\n",
              "      <td>98144</td>\n",
              "      <td>47.5941</td>\n",
              "      <td>-122.299</td>\n",
              "      <td>1020</td>\n",
              "      <td>1357</td>\n",
              "    </tr>\n",
              "  </tbody>\n",
              "</table>\n",
              "<p>5 rows × 22 columns</p>\n",
              "</div>\n",
              "      <button class=\"colab-df-convert\" onclick=\"convertToInteractive('df-3df0e95c-2edc-4ecd-bc05-9485f815e99c')\"\n",
              "              title=\"Convert this dataframe to an interactive table.\"\n",
              "              style=\"display:none;\">\n",
              "        \n",
              "  <svg xmlns=\"http://www.w3.org/2000/svg\" height=\"24px\"viewBox=\"0 0 24 24\"\n",
              "       width=\"24px\">\n",
              "    <path d=\"M0 0h24v24H0V0z\" fill=\"none\"/>\n",
              "    <path d=\"M18.56 5.44l.94 2.06.94-2.06 2.06-.94-2.06-.94-.94-2.06-.94 2.06-2.06.94zm-11 1L8.5 8.5l.94-2.06 2.06-.94-2.06-.94L8.5 2.5l-.94 2.06-2.06.94zm10 10l.94 2.06.94-2.06 2.06-.94-2.06-.94-.94-2.06-.94 2.06-2.06.94z\"/><path d=\"M17.41 7.96l-1.37-1.37c-.4-.4-.92-.59-1.43-.59-.52 0-1.04.2-1.43.59L10.3 9.45l-7.72 7.72c-.78.78-.78 2.05 0 2.83L4 21.41c.39.39.9.59 1.41.59.51 0 1.02-.2 1.41-.59l7.78-7.78 2.81-2.81c.8-.78.8-2.07 0-2.86zM5.41 20L4 18.59l7.72-7.72 1.47 1.35L5.41 20z\"/>\n",
              "  </svg>\n",
              "      </button>\n",
              "      \n",
              "  <style>\n",
              "    .colab-df-container {\n",
              "      display:flex;\n",
              "      flex-wrap:wrap;\n",
              "      gap: 12px;\n",
              "    }\n",
              "\n",
              "    .colab-df-convert {\n",
              "      background-color: #E8F0FE;\n",
              "      border: none;\n",
              "      border-radius: 50%;\n",
              "      cursor: pointer;\n",
              "      display: none;\n",
              "      fill: #1967D2;\n",
              "      height: 32px;\n",
              "      padding: 0 0 0 0;\n",
              "      width: 32px;\n",
              "    }\n",
              "\n",
              "    .colab-df-convert:hover {\n",
              "      background-color: #E2EBFA;\n",
              "      box-shadow: 0px 1px 2px rgba(60, 64, 67, 0.3), 0px 1px 3px 1px rgba(60, 64, 67, 0.15);\n",
              "      fill: #174EA6;\n",
              "    }\n",
              "\n",
              "    [theme=dark] .colab-df-convert {\n",
              "      background-color: #3B4455;\n",
              "      fill: #D2E3FC;\n",
              "    }\n",
              "\n",
              "    [theme=dark] .colab-df-convert:hover {\n",
              "      background-color: #434B5C;\n",
              "      box-shadow: 0px 1px 3px 1px rgba(0, 0, 0, 0.15);\n",
              "      filter: drop-shadow(0px 1px 2px rgba(0, 0, 0, 0.3));\n",
              "      fill: #FFFFFF;\n",
              "    }\n",
              "  </style>\n",
              "\n",
              "      <script>\n",
              "        const buttonEl =\n",
              "          document.querySelector('#df-3df0e95c-2edc-4ecd-bc05-9485f815e99c button.colab-df-convert');\n",
              "        buttonEl.style.display =\n",
              "          google.colab.kernel.accessAllowed ? 'block' : 'none';\n",
              "\n",
              "        async function convertToInteractive(key) {\n",
              "          const element = document.querySelector('#df-3df0e95c-2edc-4ecd-bc05-9485f815e99c');\n",
              "          const dataTable =\n",
              "            await google.colab.kernel.invokeFunction('convertToInteractive',\n",
              "                                                     [key], {});\n",
              "          if (!dataTable) return;\n",
              "\n",
              "          const docLinkHtml = 'Like what you see? Visit the ' +\n",
              "            '<a target=\"_blank\" href=https://colab.research.google.com/notebooks/data_table.ipynb>data table notebook</a>'\n",
              "            + ' to learn more about interactive tables.';\n",
              "          element.innerHTML = '';\n",
              "          dataTable['output_type'] = 'display_data';\n",
              "          await google.colab.output.renderOutput(dataTable, element);\n",
              "          const docLink = document.createElement('div');\n",
              "          docLink.innerHTML = docLinkHtml;\n",
              "          element.appendChild(docLink);\n",
              "        }\n",
              "      </script>\n",
              "    </div>\n",
              "  </div>\n",
              "  "
            ]
          },
          "metadata": {},
          "execution_count": 5
        }
      ]
    },
    {
      "cell_type": "code",
      "source": [
        "df.columns #memperlihatkan nama kolom dari sebuah pandas dataframe"
      ],
      "metadata": {
        "colab": {
          "base_uri": "https://localhost:8080/"
        },
        "id": "e0dwtgtFNIXm",
        "outputId": "bd5c53d4-3133-415c-f663-54ac4412f03e"
      },
      "execution_count": 6,
      "outputs": [
        {
          "output_type": "execute_result",
          "data": {
            "text/plain": [
              "Index(['Unnamed: 0', 'id', 'date', 'price', 'bedrooms', 'bathrooms',\n",
              "       'sqft_living', 'sqft_lot', 'floors', 'waterfront', 'view', 'condition',\n",
              "       'grade', 'sqft_above', 'sqft_basement', 'yr_built', 'yr_renovated',\n",
              "       'zipcode', 'lat', 'long', 'sqft_living15', 'sqft_lot15'],\n",
              "      dtype='object')"
            ]
          },
          "metadata": {},
          "execution_count": 6
        }
      ]
    },
    {
      "cell_type": "code",
      "source": [
        "df.shape #shape adalah tuple yang memberikan informasi dimensi dari sebuah array"
      ],
      "metadata": {
        "colab": {
          "base_uri": "https://localhost:8080/"
        },
        "id": "rhOitaTiNLU-",
        "outputId": "6e8e55b1-b09b-4d12-bc46-056aa6452614"
      },
      "execution_count": 7,
      "outputs": [
        {
          "output_type": "execute_result",
          "data": {
            "text/plain": [
              "(21613, 22)"
            ]
          },
          "metadata": {},
          "execution_count": 7
        }
      ]
    },
    {
      "cell_type": "code",
      "source": [
        "df.info #Print a concise summary of a DataFrame. This method prints information about a DataFrame including the index dtype and columns, non-null values and memory usage."
      ],
      "metadata": {
        "id": "3VbeR_hB_O13",
        "outputId": "a69ac761-3a48-4af4-f30b-7fc31df324d7",
        "colab": {
          "base_uri": "https://localhost:8080/"
        }
      },
      "execution_count": 8,
      "outputs": [
        {
          "output_type": "execute_result",
          "data": {
            "text/plain": [
              "<bound method DataFrame.info of        Unnamed: 0          id             date     price  bedrooms  bathrooms  \\\n",
              "0               0  7129300520  20141013T000000  221900.0       3.0       1.00   \n",
              "1               1  6414100192  20141209T000000  538000.0       3.0       2.25   \n",
              "2               2  5631500400  20150225T000000  180000.0       2.0       1.00   \n",
              "3               3  2487200875  20141209T000000  604000.0       4.0       3.00   \n",
              "4               4  1954400510  20150218T000000  510000.0       3.0       2.00   \n",
              "...           ...         ...              ...       ...       ...        ...   \n",
              "21608       21608   263000018  20140521T000000  360000.0       3.0       2.50   \n",
              "21609       21609  6600060120  20150223T000000  400000.0       4.0       2.50   \n",
              "21610       21610  1523300141  20140623T000000  402101.0       2.0       0.75   \n",
              "21611       21611   291310100  20150116T000000  400000.0       3.0       2.50   \n",
              "21612       21612  1523300157  20141015T000000  325000.0       2.0       0.75   \n",
              "\n",
              "       sqft_living  sqft_lot  floors  waterfront  ...  grade  sqft_above  \\\n",
              "0             1180      5650     1.0           0  ...      7        1180   \n",
              "1             2570      7242     2.0           0  ...      7        2170   \n",
              "2              770     10000     1.0           0  ...      6         770   \n",
              "3             1960      5000     1.0           0  ...      7        1050   \n",
              "4             1680      8080     1.0           0  ...      8        1680   \n",
              "...            ...       ...     ...         ...  ...    ...         ...   \n",
              "21608         1530      1131     3.0           0  ...      8        1530   \n",
              "21609         2310      5813     2.0           0  ...      8        2310   \n",
              "21610         1020      1350     2.0           0  ...      7        1020   \n",
              "21611         1600      2388     2.0           0  ...      8        1600   \n",
              "21612         1020      1076     2.0           0  ...      7        1020   \n",
              "\n",
              "       sqft_basement  yr_built  yr_renovated  zipcode      lat     long  \\\n",
              "0                  0      1955             0    98178  47.5112 -122.257   \n",
              "1                400      1951          1991    98125  47.7210 -122.319   \n",
              "2                  0      1933             0    98028  47.7379 -122.233   \n",
              "3                910      1965             0    98136  47.5208 -122.393   \n",
              "4                  0      1987             0    98074  47.6168 -122.045   \n",
              "...              ...       ...           ...      ...      ...      ...   \n",
              "21608              0      2009             0    98103  47.6993 -122.346   \n",
              "21609              0      2014             0    98146  47.5107 -122.362   \n",
              "21610              0      2009             0    98144  47.5944 -122.299   \n",
              "21611              0      2004             0    98027  47.5345 -122.069   \n",
              "21612              0      2008             0    98144  47.5941 -122.299   \n",
              "\n",
              "       sqft_living15  sqft_lot15  \n",
              "0               1340        5650  \n",
              "1               1690        7639  \n",
              "2               2720        8062  \n",
              "3               1360        5000  \n",
              "4               1800        7503  \n",
              "...              ...         ...  \n",
              "21608           1530        1509  \n",
              "21609           1830        7200  \n",
              "21610           1020        2007  \n",
              "21611           1410        1287  \n",
              "21612           1020        1357  \n",
              "\n",
              "[21613 rows x 22 columns]>"
            ]
          },
          "metadata": {},
          "execution_count": 8
        }
      ]
    },
    {
      "cell_type": "code",
      "source": [
        "df.dtypes #memperlihatkan data type untuk tiap field yang ada"
      ],
      "metadata": {
        "id": "xdj0RLKf_gkv",
        "outputId": "db589042-0e9c-4469-8c0e-fe1ecfe1d7a6",
        "colab": {
          "base_uri": "https://localhost:8080/"
        }
      },
      "execution_count": 9,
      "outputs": [
        {
          "output_type": "execute_result",
          "data": {
            "text/plain": [
              "Unnamed: 0         int64\n",
              "id                 int64\n",
              "date              object\n",
              "price            float64\n",
              "bedrooms         float64\n",
              "bathrooms        float64\n",
              "sqft_living        int64\n",
              "sqft_lot           int64\n",
              "floors           float64\n",
              "waterfront         int64\n",
              "view               int64\n",
              "condition          int64\n",
              "grade              int64\n",
              "sqft_above         int64\n",
              "sqft_basement      int64\n",
              "yr_built           int64\n",
              "yr_renovated       int64\n",
              "zipcode            int64\n",
              "lat              float64\n",
              "long             float64\n",
              "sqft_living15      int64\n",
              "sqft_lot15         int64\n",
              "dtype: object"
            ]
          },
          "metadata": {},
          "execution_count": 9
        }
      ]
    },
    {
      "cell_type": "code",
      "source": [
        "df.describe() #describe() adalah sebuah metode dalam pandas dataframe yang digunakan untuk melakukan kalkulasi dari data statistic seperti percentile, mean, std, min, max dari serangkaian nilai numerik dari sebuah series atau dataframe"
      ],
      "metadata": {
        "colab": {
          "base_uri": "https://localhost:8080/",
          "height": 394
        },
        "id": "XvPmXZA8NNAu",
        "outputId": "b8394aed-f27c-4f29-989c-6f4dea01e18b"
      },
      "execution_count": 10,
      "outputs": [
        {
          "output_type": "execute_result",
          "data": {
            "text/plain": [
              "        Unnamed: 0            id         price      bedrooms     bathrooms  \\\n",
              "count  21613.00000  2.161300e+04  2.161300e+04  21600.000000  21603.000000   \n",
              "mean   10806.00000  4.580302e+09  5.400881e+05      3.372870      2.115736   \n",
              "std     6239.28002  2.876566e+09  3.671272e+05      0.926657      0.768996   \n",
              "min        0.00000  1.000102e+06  7.500000e+04      1.000000      0.500000   \n",
              "25%     5403.00000  2.123049e+09  3.219500e+05      3.000000      1.750000   \n",
              "50%    10806.00000  3.904930e+09  4.500000e+05      3.000000      2.250000   \n",
              "75%    16209.00000  7.308900e+09  6.450000e+05      4.000000      2.500000   \n",
              "max    21612.00000  9.900000e+09  7.700000e+06     33.000000      8.000000   \n",
              "\n",
              "        sqft_living      sqft_lot        floors    waterfront          view  \\\n",
              "count  21613.000000  2.161300e+04  21613.000000  21613.000000  21613.000000   \n",
              "mean    2079.899736  1.510697e+04      1.494309      0.007542      0.234303   \n",
              "std      918.440897  4.142051e+04      0.539989      0.086517      0.766318   \n",
              "min      290.000000  5.200000e+02      1.000000      0.000000      0.000000   \n",
              "25%     1427.000000  5.040000e+03      1.000000      0.000000      0.000000   \n",
              "50%     1910.000000  7.618000e+03      1.500000      0.000000      0.000000   \n",
              "75%     2550.000000  1.068800e+04      2.000000      0.000000      0.000000   \n",
              "max    13540.000000  1.651359e+06      3.500000      1.000000      4.000000   \n",
              "\n",
              "       ...         grade    sqft_above  sqft_basement      yr_built  \\\n",
              "count  ...  21613.000000  21613.000000   21613.000000  21613.000000   \n",
              "mean   ...      7.656873   1788.390691     291.509045   1971.005136   \n",
              "std    ...      1.175459    828.090978     442.575043     29.373411   \n",
              "min    ...      1.000000    290.000000       0.000000   1900.000000   \n",
              "25%    ...      7.000000   1190.000000       0.000000   1951.000000   \n",
              "50%    ...      7.000000   1560.000000       0.000000   1975.000000   \n",
              "75%    ...      8.000000   2210.000000     560.000000   1997.000000   \n",
              "max    ...     13.000000   9410.000000    4820.000000   2015.000000   \n",
              "\n",
              "       yr_renovated       zipcode           lat          long  sqft_living15  \\\n",
              "count  21613.000000  21613.000000  21613.000000  21613.000000   21613.000000   \n",
              "mean      84.402258  98077.939805     47.560053   -122.213896    1986.552492   \n",
              "std      401.679240     53.505026      0.138564      0.140828     685.391304   \n",
              "min        0.000000  98001.000000     47.155900   -122.519000     399.000000   \n",
              "25%        0.000000  98033.000000     47.471000   -122.328000    1490.000000   \n",
              "50%        0.000000  98065.000000     47.571800   -122.230000    1840.000000   \n",
              "75%        0.000000  98118.000000     47.678000   -122.125000    2360.000000   \n",
              "max     2015.000000  98199.000000     47.777600   -121.315000    6210.000000   \n",
              "\n",
              "          sqft_lot15  \n",
              "count   21613.000000  \n",
              "mean    12768.455652  \n",
              "std     27304.179631  \n",
              "min       651.000000  \n",
              "25%      5100.000000  \n",
              "50%      7620.000000  \n",
              "75%     10083.000000  \n",
              "max    871200.000000  \n",
              "\n",
              "[8 rows x 21 columns]"
            ],
            "text/html": [
              "\n",
              "  <div id=\"df-3513ce79-a0d6-4835-aac2-315132f54c0c\">\n",
              "    <div class=\"colab-df-container\">\n",
              "      <div>\n",
              "<style scoped>\n",
              "    .dataframe tbody tr th:only-of-type {\n",
              "        vertical-align: middle;\n",
              "    }\n",
              "\n",
              "    .dataframe tbody tr th {\n",
              "        vertical-align: top;\n",
              "    }\n",
              "\n",
              "    .dataframe thead th {\n",
              "        text-align: right;\n",
              "    }\n",
              "</style>\n",
              "<table border=\"1\" class=\"dataframe\">\n",
              "  <thead>\n",
              "    <tr style=\"text-align: right;\">\n",
              "      <th></th>\n",
              "      <th>Unnamed: 0</th>\n",
              "      <th>id</th>\n",
              "      <th>price</th>\n",
              "      <th>bedrooms</th>\n",
              "      <th>bathrooms</th>\n",
              "      <th>sqft_living</th>\n",
              "      <th>sqft_lot</th>\n",
              "      <th>floors</th>\n",
              "      <th>waterfront</th>\n",
              "      <th>view</th>\n",
              "      <th>...</th>\n",
              "      <th>grade</th>\n",
              "      <th>sqft_above</th>\n",
              "      <th>sqft_basement</th>\n",
              "      <th>yr_built</th>\n",
              "      <th>yr_renovated</th>\n",
              "      <th>zipcode</th>\n",
              "      <th>lat</th>\n",
              "      <th>long</th>\n",
              "      <th>sqft_living15</th>\n",
              "      <th>sqft_lot15</th>\n",
              "    </tr>\n",
              "  </thead>\n",
              "  <tbody>\n",
              "    <tr>\n",
              "      <th>count</th>\n",
              "      <td>21613.00000</td>\n",
              "      <td>2.161300e+04</td>\n",
              "      <td>2.161300e+04</td>\n",
              "      <td>21600.000000</td>\n",
              "      <td>21603.000000</td>\n",
              "      <td>21613.000000</td>\n",
              "      <td>2.161300e+04</td>\n",
              "      <td>21613.000000</td>\n",
              "      <td>21613.000000</td>\n",
              "      <td>21613.000000</td>\n",
              "      <td>...</td>\n",
              "      <td>21613.000000</td>\n",
              "      <td>21613.000000</td>\n",
              "      <td>21613.000000</td>\n",
              "      <td>21613.000000</td>\n",
              "      <td>21613.000000</td>\n",
              "      <td>21613.000000</td>\n",
              "      <td>21613.000000</td>\n",
              "      <td>21613.000000</td>\n",
              "      <td>21613.000000</td>\n",
              "      <td>21613.000000</td>\n",
              "    </tr>\n",
              "    <tr>\n",
              "      <th>mean</th>\n",
              "      <td>10806.00000</td>\n",
              "      <td>4.580302e+09</td>\n",
              "      <td>5.400881e+05</td>\n",
              "      <td>3.372870</td>\n",
              "      <td>2.115736</td>\n",
              "      <td>2079.899736</td>\n",
              "      <td>1.510697e+04</td>\n",
              "      <td>1.494309</td>\n",
              "      <td>0.007542</td>\n",
              "      <td>0.234303</td>\n",
              "      <td>...</td>\n",
              "      <td>7.656873</td>\n",
              "      <td>1788.390691</td>\n",
              "      <td>291.509045</td>\n",
              "      <td>1971.005136</td>\n",
              "      <td>84.402258</td>\n",
              "      <td>98077.939805</td>\n",
              "      <td>47.560053</td>\n",
              "      <td>-122.213896</td>\n",
              "      <td>1986.552492</td>\n",
              "      <td>12768.455652</td>\n",
              "    </tr>\n",
              "    <tr>\n",
              "      <th>std</th>\n",
              "      <td>6239.28002</td>\n",
              "      <td>2.876566e+09</td>\n",
              "      <td>3.671272e+05</td>\n",
              "      <td>0.926657</td>\n",
              "      <td>0.768996</td>\n",
              "      <td>918.440897</td>\n",
              "      <td>4.142051e+04</td>\n",
              "      <td>0.539989</td>\n",
              "      <td>0.086517</td>\n",
              "      <td>0.766318</td>\n",
              "      <td>...</td>\n",
              "      <td>1.175459</td>\n",
              "      <td>828.090978</td>\n",
              "      <td>442.575043</td>\n",
              "      <td>29.373411</td>\n",
              "      <td>401.679240</td>\n",
              "      <td>53.505026</td>\n",
              "      <td>0.138564</td>\n",
              "      <td>0.140828</td>\n",
              "      <td>685.391304</td>\n",
              "      <td>27304.179631</td>\n",
              "    </tr>\n",
              "    <tr>\n",
              "      <th>min</th>\n",
              "      <td>0.00000</td>\n",
              "      <td>1.000102e+06</td>\n",
              "      <td>7.500000e+04</td>\n",
              "      <td>1.000000</td>\n",
              "      <td>0.500000</td>\n",
              "      <td>290.000000</td>\n",
              "      <td>5.200000e+02</td>\n",
              "      <td>1.000000</td>\n",
              "      <td>0.000000</td>\n",
              "      <td>0.000000</td>\n",
              "      <td>...</td>\n",
              "      <td>1.000000</td>\n",
              "      <td>290.000000</td>\n",
              "      <td>0.000000</td>\n",
              "      <td>1900.000000</td>\n",
              "      <td>0.000000</td>\n",
              "      <td>98001.000000</td>\n",
              "      <td>47.155900</td>\n",
              "      <td>-122.519000</td>\n",
              "      <td>399.000000</td>\n",
              "      <td>651.000000</td>\n",
              "    </tr>\n",
              "    <tr>\n",
              "      <th>25%</th>\n",
              "      <td>5403.00000</td>\n",
              "      <td>2.123049e+09</td>\n",
              "      <td>3.219500e+05</td>\n",
              "      <td>3.000000</td>\n",
              "      <td>1.750000</td>\n",
              "      <td>1427.000000</td>\n",
              "      <td>5.040000e+03</td>\n",
              "      <td>1.000000</td>\n",
              "      <td>0.000000</td>\n",
              "      <td>0.000000</td>\n",
              "      <td>...</td>\n",
              "      <td>7.000000</td>\n",
              "      <td>1190.000000</td>\n",
              "      <td>0.000000</td>\n",
              "      <td>1951.000000</td>\n",
              "      <td>0.000000</td>\n",
              "      <td>98033.000000</td>\n",
              "      <td>47.471000</td>\n",
              "      <td>-122.328000</td>\n",
              "      <td>1490.000000</td>\n",
              "      <td>5100.000000</td>\n",
              "    </tr>\n",
              "    <tr>\n",
              "      <th>50%</th>\n",
              "      <td>10806.00000</td>\n",
              "      <td>3.904930e+09</td>\n",
              "      <td>4.500000e+05</td>\n",
              "      <td>3.000000</td>\n",
              "      <td>2.250000</td>\n",
              "      <td>1910.000000</td>\n",
              "      <td>7.618000e+03</td>\n",
              "      <td>1.500000</td>\n",
              "      <td>0.000000</td>\n",
              "      <td>0.000000</td>\n",
              "      <td>...</td>\n",
              "      <td>7.000000</td>\n",
              "      <td>1560.000000</td>\n",
              "      <td>0.000000</td>\n",
              "      <td>1975.000000</td>\n",
              "      <td>0.000000</td>\n",
              "      <td>98065.000000</td>\n",
              "      <td>47.571800</td>\n",
              "      <td>-122.230000</td>\n",
              "      <td>1840.000000</td>\n",
              "      <td>7620.000000</td>\n",
              "    </tr>\n",
              "    <tr>\n",
              "      <th>75%</th>\n",
              "      <td>16209.00000</td>\n",
              "      <td>7.308900e+09</td>\n",
              "      <td>6.450000e+05</td>\n",
              "      <td>4.000000</td>\n",
              "      <td>2.500000</td>\n",
              "      <td>2550.000000</td>\n",
              "      <td>1.068800e+04</td>\n",
              "      <td>2.000000</td>\n",
              "      <td>0.000000</td>\n",
              "      <td>0.000000</td>\n",
              "      <td>...</td>\n",
              "      <td>8.000000</td>\n",
              "      <td>2210.000000</td>\n",
              "      <td>560.000000</td>\n",
              "      <td>1997.000000</td>\n",
              "      <td>0.000000</td>\n",
              "      <td>98118.000000</td>\n",
              "      <td>47.678000</td>\n",
              "      <td>-122.125000</td>\n",
              "      <td>2360.000000</td>\n",
              "      <td>10083.000000</td>\n",
              "    </tr>\n",
              "    <tr>\n",
              "      <th>max</th>\n",
              "      <td>21612.00000</td>\n",
              "      <td>9.900000e+09</td>\n",
              "      <td>7.700000e+06</td>\n",
              "      <td>33.000000</td>\n",
              "      <td>8.000000</td>\n",
              "      <td>13540.000000</td>\n",
              "      <td>1.651359e+06</td>\n",
              "      <td>3.500000</td>\n",
              "      <td>1.000000</td>\n",
              "      <td>4.000000</td>\n",
              "      <td>...</td>\n",
              "      <td>13.000000</td>\n",
              "      <td>9410.000000</td>\n",
              "      <td>4820.000000</td>\n",
              "      <td>2015.000000</td>\n",
              "      <td>2015.000000</td>\n",
              "      <td>98199.000000</td>\n",
              "      <td>47.777600</td>\n",
              "      <td>-121.315000</td>\n",
              "      <td>6210.000000</td>\n",
              "      <td>871200.000000</td>\n",
              "    </tr>\n",
              "  </tbody>\n",
              "</table>\n",
              "<p>8 rows × 21 columns</p>\n",
              "</div>\n",
              "      <button class=\"colab-df-convert\" onclick=\"convertToInteractive('df-3513ce79-a0d6-4835-aac2-315132f54c0c')\"\n",
              "              title=\"Convert this dataframe to an interactive table.\"\n",
              "              style=\"display:none;\">\n",
              "        \n",
              "  <svg xmlns=\"http://www.w3.org/2000/svg\" height=\"24px\"viewBox=\"0 0 24 24\"\n",
              "       width=\"24px\">\n",
              "    <path d=\"M0 0h24v24H0V0z\" fill=\"none\"/>\n",
              "    <path d=\"M18.56 5.44l.94 2.06.94-2.06 2.06-.94-2.06-.94-.94-2.06-.94 2.06-2.06.94zm-11 1L8.5 8.5l.94-2.06 2.06-.94-2.06-.94L8.5 2.5l-.94 2.06-2.06.94zm10 10l.94 2.06.94-2.06 2.06-.94-2.06-.94-.94-2.06-.94 2.06-2.06.94z\"/><path d=\"M17.41 7.96l-1.37-1.37c-.4-.4-.92-.59-1.43-.59-.52 0-1.04.2-1.43.59L10.3 9.45l-7.72 7.72c-.78.78-.78 2.05 0 2.83L4 21.41c.39.39.9.59 1.41.59.51 0 1.02-.2 1.41-.59l7.78-7.78 2.81-2.81c.8-.78.8-2.07 0-2.86zM5.41 20L4 18.59l7.72-7.72 1.47 1.35L5.41 20z\"/>\n",
              "  </svg>\n",
              "      </button>\n",
              "      \n",
              "  <style>\n",
              "    .colab-df-container {\n",
              "      display:flex;\n",
              "      flex-wrap:wrap;\n",
              "      gap: 12px;\n",
              "    }\n",
              "\n",
              "    .colab-df-convert {\n",
              "      background-color: #E8F0FE;\n",
              "      border: none;\n",
              "      border-radius: 50%;\n",
              "      cursor: pointer;\n",
              "      display: none;\n",
              "      fill: #1967D2;\n",
              "      height: 32px;\n",
              "      padding: 0 0 0 0;\n",
              "      width: 32px;\n",
              "    }\n",
              "\n",
              "    .colab-df-convert:hover {\n",
              "      background-color: #E2EBFA;\n",
              "      box-shadow: 0px 1px 2px rgba(60, 64, 67, 0.3), 0px 1px 3px 1px rgba(60, 64, 67, 0.15);\n",
              "      fill: #174EA6;\n",
              "    }\n",
              "\n",
              "    [theme=dark] .colab-df-convert {\n",
              "      background-color: #3B4455;\n",
              "      fill: #D2E3FC;\n",
              "    }\n",
              "\n",
              "    [theme=dark] .colab-df-convert:hover {\n",
              "      background-color: #434B5C;\n",
              "      box-shadow: 0px 1px 3px 1px rgba(0, 0, 0, 0.15);\n",
              "      filter: drop-shadow(0px 1px 2px rgba(0, 0, 0, 0.3));\n",
              "      fill: #FFFFFF;\n",
              "    }\n",
              "  </style>\n",
              "\n",
              "      <script>\n",
              "        const buttonEl =\n",
              "          document.querySelector('#df-3513ce79-a0d6-4835-aac2-315132f54c0c button.colab-df-convert');\n",
              "        buttonEl.style.display =\n",
              "          google.colab.kernel.accessAllowed ? 'block' : 'none';\n",
              "\n",
              "        async function convertToInteractive(key) {\n",
              "          const element = document.querySelector('#df-3513ce79-a0d6-4835-aac2-315132f54c0c');\n",
              "          const dataTable =\n",
              "            await google.colab.kernel.invokeFunction('convertToInteractive',\n",
              "                                                     [key], {});\n",
              "          if (!dataTable) return;\n",
              "\n",
              "          const docLinkHtml = 'Like what you see? Visit the ' +\n",
              "            '<a target=\"_blank\" href=https://colab.research.google.com/notebooks/data_table.ipynb>data table notebook</a>'\n",
              "            + ' to learn more about interactive tables.';\n",
              "          element.innerHTML = '';\n",
              "          dataTable['output_type'] = 'display_data';\n",
              "          await google.colab.output.renderOutput(dataTable, element);\n",
              "          const docLink = document.createElement('div');\n",
              "          docLink.innerHTML = docLinkHtml;\n",
              "          element.appendChild(docLink);\n",
              "        }\n",
              "      </script>\n",
              "    </div>\n",
              "  </div>\n",
              "  "
            ]
          },
          "metadata": {},
          "execution_count": 10
        }
      ]
    },
    {
      "cell_type": "code",
      "source": [
        "df.isnull().sum() #isnull() adalah sebuah fungsi untuk mendeteksi missing values dalam serangkaian obyek. Sum() adalah fungsi untuk menjumlahkan"
      ],
      "metadata": {
        "colab": {
          "base_uri": "https://localhost:8080/"
        },
        "id": "p0Vho7U6NO8t",
        "outputId": "ddfefb3e-17bc-4159-caa0-b2b32d5bba26"
      },
      "execution_count": 11,
      "outputs": [
        {
          "output_type": "execute_result",
          "data": {
            "text/plain": [
              "Unnamed: 0        0\n",
              "id                0\n",
              "date              0\n",
              "price             0\n",
              "bedrooms         13\n",
              "bathrooms        10\n",
              "sqft_living       0\n",
              "sqft_lot          0\n",
              "floors            0\n",
              "waterfront        0\n",
              "view              0\n",
              "condition         0\n",
              "grade             0\n",
              "sqft_above        0\n",
              "sqft_basement     0\n",
              "yr_built          0\n",
              "yr_renovated      0\n",
              "zipcode           0\n",
              "lat               0\n",
              "long              0\n",
              "sqft_living15     0\n",
              "sqft_lot15        0\n",
              "dtype: int64"
            ]
          },
          "metadata": {},
          "execution_count": 11
        }
      ]
    },
    {
      "cell_type": "markdown",
      "source": [
        "Kita dapat melihat bahwa ada missing value pada kolom bedrooms dan bathrooms"
      ],
      "metadata": {
        "id": "-NoBalLkAIsl"
      }
    },
    {
      "cell_type": "code",
      "source": [
        "print(\"number of NaN values for the column bedrooms :\", df['bedrooms'].isnull().sum())\n",
        "print(\"number of NaN values for the column bathrooms :\", df['bathrooms'].isnull().sum())"
      ],
      "metadata": {
        "id": "fjPkAJOPAVv7",
        "outputId": "4b8044a6-55f1-4eb3-bb36-fdb407bbf3e1",
        "colab": {
          "base_uri": "https://localhost:8080/"
        }
      },
      "execution_count": 12,
      "outputs": [
        {
          "output_type": "stream",
          "name": "stdout",
          "text": [
            "number of NaN values for the column bedrooms : 13\n",
            "number of NaN values for the column bathrooms : 10\n"
          ]
        }
      ]
    },
    {
      "cell_type": "markdown",
      "source": [
        "Kita akan mengganti missing values pada kolom 'bedrooms' dengan rata-rata dari kolom tsb menggunakan metode replace(). Jangan lupa untuk men set parameter inplace menjadi True"
      ],
      "metadata": {
        "id": "xzsDzs9ZAfRr"
      }
    },
    {
      "cell_type": "code",
      "source": [
        "mean=df['bedrooms'].mean()\n",
        "df['bedrooms'].replace(np.nan,mean, inplace=True)"
      ],
      "metadata": {
        "id": "m23PqddWAdzq"
      },
      "execution_count": 13,
      "outputs": []
    },
    {
      "cell_type": "markdown",
      "source": [
        "Kita juga akan mengganti missing values pada kolom 'bathrooms' dengan rata-rata dari kolom tsb menggunakan metode replace(). Jangan lupa untuk men set parameter inplace menjadi True"
      ],
      "metadata": {
        "id": "f9GiRmDCAnaV"
      }
    },
    {
      "cell_type": "code",
      "source": [
        "mean=df['bathrooms'].mean()\n",
        "df['bathrooms'].replace(np.nan,mean, inplace=True)"
      ],
      "metadata": {
        "id": "y_xfB2lRAqGv"
      },
      "execution_count": 14,
      "outputs": []
    },
    {
      "cell_type": "code",
      "source": [
        "print(\"number of NaN values for the column bedrooms :\", df['bedrooms'].isnull().sum())\n",
        "print(\"number of NaN values for the column bathrooms :\", df['bathrooms'].isnull().sum())"
      ],
      "metadata": {
        "id": "6ipddsFnAujd",
        "outputId": "e17d7e18-2770-4b76-a58e-61e34497bf55",
        "colab": {
          "base_uri": "https://localhost:8080/"
        }
      },
      "execution_count": 15,
      "outputs": [
        {
          "output_type": "stream",
          "name": "stdout",
          "text": [
            "number of NaN values for the column bedrooms : 0\n",
            "number of NaN values for the column bathrooms : 0\n"
          ]
        }
      ]
    },
    {
      "cell_type": "markdown",
      "source": [
        "Sekarang null value pada bedrooms dan bathrooms telah tiada"
      ],
      "metadata": {
        "id": "oeGj4uPKA0be"
      }
    },
    {
      "cell_type": "markdown",
      "source": [
        "### 4 Data Analysis"
      ],
      "metadata": {
        "id": "gF3fnj5ZBPXq"
      }
    },
    {
      "cell_type": "markdown",
      "source": [
        "Gunakan metode value_counts untuk menghitung jumlah dari rumah yang memiliki nilai lantai yang unik, kemudian metode .to_frame() untuk mengubahnya menjadi dataframe."
      ],
      "metadata": {
        "id": "n1gQO7YTBYUM"
      }
    },
    {
      "cell_type": "code",
      "source": [
        "df.floors.value_counts().to_frame()"
      ],
      "metadata": {
        "id": "ApUnEPZJBZvM",
        "outputId": "fd9c9df8-b2d2-4470-e1e3-e803677bec84",
        "colab": {
          "base_uri": "https://localhost:8080/",
          "height": 238
        }
      },
      "execution_count": 16,
      "outputs": [
        {
          "output_type": "execute_result",
          "data": {
            "text/plain": [
              "     floors\n",
              "1.0   10680\n",
              "2.0    8241\n",
              "1.5    1910\n",
              "3.0     613\n",
              "2.5     161\n",
              "3.5       8"
            ],
            "text/html": [
              "\n",
              "  <div id=\"df-60b99130-395f-4197-b858-a40e463e87eb\">\n",
              "    <div class=\"colab-df-container\">\n",
              "      <div>\n",
              "<style scoped>\n",
              "    .dataframe tbody tr th:only-of-type {\n",
              "        vertical-align: middle;\n",
              "    }\n",
              "\n",
              "    .dataframe tbody tr th {\n",
              "        vertical-align: top;\n",
              "    }\n",
              "\n",
              "    .dataframe thead th {\n",
              "        text-align: right;\n",
              "    }\n",
              "</style>\n",
              "<table border=\"1\" class=\"dataframe\">\n",
              "  <thead>\n",
              "    <tr style=\"text-align: right;\">\n",
              "      <th></th>\n",
              "      <th>floors</th>\n",
              "    </tr>\n",
              "  </thead>\n",
              "  <tbody>\n",
              "    <tr>\n",
              "      <th>1.0</th>\n",
              "      <td>10680</td>\n",
              "    </tr>\n",
              "    <tr>\n",
              "      <th>2.0</th>\n",
              "      <td>8241</td>\n",
              "    </tr>\n",
              "    <tr>\n",
              "      <th>1.5</th>\n",
              "      <td>1910</td>\n",
              "    </tr>\n",
              "    <tr>\n",
              "      <th>3.0</th>\n",
              "      <td>613</td>\n",
              "    </tr>\n",
              "    <tr>\n",
              "      <th>2.5</th>\n",
              "      <td>161</td>\n",
              "    </tr>\n",
              "    <tr>\n",
              "      <th>3.5</th>\n",
              "      <td>8</td>\n",
              "    </tr>\n",
              "  </tbody>\n",
              "</table>\n",
              "</div>\n",
              "      <button class=\"colab-df-convert\" onclick=\"convertToInteractive('df-60b99130-395f-4197-b858-a40e463e87eb')\"\n",
              "              title=\"Convert this dataframe to an interactive table.\"\n",
              "              style=\"display:none;\">\n",
              "        \n",
              "  <svg xmlns=\"http://www.w3.org/2000/svg\" height=\"24px\"viewBox=\"0 0 24 24\"\n",
              "       width=\"24px\">\n",
              "    <path d=\"M0 0h24v24H0V0z\" fill=\"none\"/>\n",
              "    <path d=\"M18.56 5.44l.94 2.06.94-2.06 2.06-.94-2.06-.94-.94-2.06-.94 2.06-2.06.94zm-11 1L8.5 8.5l.94-2.06 2.06-.94-2.06-.94L8.5 2.5l-.94 2.06-2.06.94zm10 10l.94 2.06.94-2.06 2.06-.94-2.06-.94-.94-2.06-.94 2.06-2.06.94z\"/><path d=\"M17.41 7.96l-1.37-1.37c-.4-.4-.92-.59-1.43-.59-.52 0-1.04.2-1.43.59L10.3 9.45l-7.72 7.72c-.78.78-.78 2.05 0 2.83L4 21.41c.39.39.9.59 1.41.59.51 0 1.02-.2 1.41-.59l7.78-7.78 2.81-2.81c.8-.78.8-2.07 0-2.86zM5.41 20L4 18.59l7.72-7.72 1.47 1.35L5.41 20z\"/>\n",
              "  </svg>\n",
              "      </button>\n",
              "      \n",
              "  <style>\n",
              "    .colab-df-container {\n",
              "      display:flex;\n",
              "      flex-wrap:wrap;\n",
              "      gap: 12px;\n",
              "    }\n",
              "\n",
              "    .colab-df-convert {\n",
              "      background-color: #E8F0FE;\n",
              "      border: none;\n",
              "      border-radius: 50%;\n",
              "      cursor: pointer;\n",
              "      display: none;\n",
              "      fill: #1967D2;\n",
              "      height: 32px;\n",
              "      padding: 0 0 0 0;\n",
              "      width: 32px;\n",
              "    }\n",
              "\n",
              "    .colab-df-convert:hover {\n",
              "      background-color: #E2EBFA;\n",
              "      box-shadow: 0px 1px 2px rgba(60, 64, 67, 0.3), 0px 1px 3px 1px rgba(60, 64, 67, 0.15);\n",
              "      fill: #174EA6;\n",
              "    }\n",
              "\n",
              "    [theme=dark] .colab-df-convert {\n",
              "      background-color: #3B4455;\n",
              "      fill: #D2E3FC;\n",
              "    }\n",
              "\n",
              "    [theme=dark] .colab-df-convert:hover {\n",
              "      background-color: #434B5C;\n",
              "      box-shadow: 0px 1px 3px 1px rgba(0, 0, 0, 0.15);\n",
              "      filter: drop-shadow(0px 1px 2px rgba(0, 0, 0, 0.3));\n",
              "      fill: #FFFFFF;\n",
              "    }\n",
              "  </style>\n",
              "\n",
              "      <script>\n",
              "        const buttonEl =\n",
              "          document.querySelector('#df-60b99130-395f-4197-b858-a40e463e87eb button.colab-df-convert');\n",
              "        buttonEl.style.display =\n",
              "          google.colab.kernel.accessAllowed ? 'block' : 'none';\n",
              "\n",
              "        async function convertToInteractive(key) {\n",
              "          const element = document.querySelector('#df-60b99130-395f-4197-b858-a40e463e87eb');\n",
              "          const dataTable =\n",
              "            await google.colab.kernel.invokeFunction('convertToInteractive',\n",
              "                                                     [key], {});\n",
              "          if (!dataTable) return;\n",
              "\n",
              "          const docLinkHtml = 'Like what you see? Visit the ' +\n",
              "            '<a target=\"_blank\" href=https://colab.research.google.com/notebooks/data_table.ipynb>data table notebook</a>'\n",
              "            + ' to learn more about interactive tables.';\n",
              "          element.innerHTML = '';\n",
              "          dataTable['output_type'] = 'display_data';\n",
              "          await google.colab.output.renderOutput(dataTable, element);\n",
              "          const docLink = document.createElement('div');\n",
              "          docLink.innerHTML = docLinkHtml;\n",
              "          element.appendChild(docLink);\n",
              "        }\n",
              "      </script>\n",
              "    </div>\n",
              "  </div>\n",
              "  "
            ]
          },
          "metadata": {},
          "execution_count": 16
        }
      ]
    },
    {
      "cell_type": "markdown",
      "source": [
        "Gunakan fungsi boxplot dalam seaborn library untuk menentukan apakah rumah dengan waterfront (atau tidak memiliki waterfront) memiliki lebih banyak price outliers."
      ],
      "metadata": {
        "id": "an5c1hq7Bm6C"
      }
    },
    {
      "cell_type": "code",
      "source": [
        "sns.boxplot(x='waterfront',y='price',data=df)"
      ],
      "metadata": {
        "id": "bsO7sK4ABmS1",
        "outputId": "54bac6c4-2ad0-49f6-8458-190e6ca20c16",
        "colab": {
          "base_uri": "https://localhost:8080/",
          "height": 307
        }
      },
      "execution_count": null,
      "outputs": [
        {
          "output_type": "execute_result",
          "data": {
            "text/plain": [
              "<matplotlib.axes._subplots.AxesSubplot at 0x7f0d805ab450>"
            ]
          },
          "metadata": {},
          "execution_count": 38
        },
        {
          "output_type": "display_data",
          "data": {
            "text/plain": [
              "<Figure size 432x288 with 1 Axes>"
            ],
            "image/png": "[encoded data removed]"
          },
          "metadata": {
            "needs_background": "light"
          }
        }
      ]
    },
    {
      "cell_type": "markdown",
      "source": [
        "Gunakan fungsi regplot pada seaborn library untuk menentukan apakah fitur sqft_above berkorelasi negatif atau positif terhadap price."
      ],
      "metadata": {
        "id": "q98sUjIUBwOS"
      }
    },
    {
      "cell_type": "code",
      "source": [
        "sns.regplot(x=df[\"sqft_living\"],y=df[\"price\"],data=df)\n",
        "plt.ylim(0,)"
      ],
      "metadata": {
        "id": "MFp2xqvqBwXd",
        "outputId": "5d0ac158-acda-4ae0-b325-0f78e7c323a2",
        "colab": {
          "base_uri": "https://localhost:8080/",
          "height": 309
        }
      },
      "execution_count": 18,
      "outputs": [
        {
          "output_type": "execute_result",
          "data": {
            "text/plain": [
              "(0.0, 8084052.226140623)"
            ]
          },
          "metadata": {},
          "execution_count": 18
        },
        {
          "output_type": "display_data",
          "data": {
            "text/plain": [
              "<Figure size 432x288 with 1 Axes>"
            ],
            "image/png": "[encoded data removed]"
          },
          "metadata": {
            "needs_background": "light"
          }
        }
      ]
    },
    {
      "cell_type": "code",
      "source": [
        "sns.relplot(x='price', y='grade', data=df) #kita akan melakukan visualisasi terhadap data untuk melihat hubungan antara dua variabel"
      ],
      "metadata": {
        "colab": {
          "base_uri": "https://localhost:8080/",
          "height": 386
        },
        "id": "8usDuHJ7NqV-",
        "outputId": "4ebd5f51-cc00-44ef-f172-6254285019df"
      },
      "execution_count": null,
      "outputs": [
        {
          "output_type": "execute_result",
          "data": {
            "text/plain": [
              "<seaborn.axisgrid.FacetGrid at 0x7f0d8054aed0>"
            ]
          },
          "metadata": {},
          "execution_count": 40
        },
        {
          "output_type": "display_data",
          "data": {
            "text/plain": [
              "<Figure size 360x360 with 1 Axes>"
            ],
            "image/png": "[encoded data removed]"
          },
          "metadata": {
            "needs_background": "light"
          }
        }
      ]
    },
    {
      "cell_type": "markdown",
      "source": [
        "Kita dapat menggunakan metode corr() dari Pandas untuk menentukan fitur selain price yang paling berkorelasi dengan price."
      ],
      "metadata": {
        "id": "88CQKSXyB43r"
      }
    },
    {
      "cell_type": "code",
      "source": [
        "df.corr()['price'].sort_values()"
      ],
      "metadata": {
        "id": "gqvRBSVKB4sz",
        "outputId": "9981dbe7-2936-434f-e045-650d7f9f4794",
        "colab": {
          "base_uri": "https://localhost:8080/"
        }
      },
      "execution_count": 19,
      "outputs": [
        {
          "output_type": "execute_result",
          "data": {
            "text/plain": [
              "zipcode         -0.053203\n",
              "id              -0.016762\n",
              "long             0.021626\n",
              "Unnamed: 0       0.027372\n",
              "condition        0.036362\n",
              "yr_built         0.054012\n",
              "sqft_lot15       0.082447\n",
              "sqft_lot         0.089661\n",
              "yr_renovated     0.126434\n",
              "floors           0.256794\n",
              "waterfront       0.266369\n",
              "lat              0.307003\n",
              "bedrooms         0.308797\n",
              "sqft_basement    0.323816\n",
              "view             0.397293\n",
              "bathrooms        0.525738\n",
              "sqft_living15    0.585379\n",
              "sqft_above       0.605567\n",
              "grade            0.667434\n",
              "sqft_living      0.702035\n",
              "price            1.000000\n",
              "Name: price, dtype: float64"
            ]
          },
          "metadata": {},
          "execution_count": 19
        }
      ]
    },
    {
      "cell_type": "markdown",
      "source": [
        "##Prediction with Python - Part 2"
      ],
      "metadata": {
        "id": "SoHsixYOHUX3"
      }
    },
    {
      "cell_type": "markdown",
      "source": [
        "### 5 Model Development"
      ],
      "metadata": {
        "id": "JuYII0d9B_d4"
      }
    },
    {
      "cell_type": "markdown",
      "source": [
        "**We will use R-squared to check if a variable is strongly related to price**\n",
        "\n",
        "The most common interpretation of r-squared is how well the regression model fits the observed data. For example, an r-squared of 60% reveals that 60% of the data fit the regression model. Generally, a higher r-squared indicates a better fit for the model."
      ],
      "metadata": {
        "id": "ytqy0VQhC-Ae"
      }
    },
    {
      "cell_type": "markdown",
      "source": [
        "Kita dapat memakai model linear regression menggunakan fitur 'long' dan menghitung R^2."
      ],
      "metadata": {
        "id": "O4pz7x_1CFuO"
      }
    },
    {
      "cell_type": "code",
      "source": [
        "X = df[['long']]\n",
        "Y = df['price']\n",
        "lm = LinearRegression()\n",
        "lm.fit(X,Y)\n",
        "lm.score(X, Y)"
      ],
      "metadata": {
        "id": "Gmd0pM0ZCI-G",
        "outputId": "8118b7ca-5ab4-4785-c57f-382a0d373108",
        "colab": {
          "base_uri": "https://localhost:8080/"
        }
      },
      "execution_count": null,
      "outputs": [
        {
          "output_type": "execute_result",
          "data": {
            "text/plain": [
              "0.00046769430149007363"
            ]
          },
          "metadata": {},
          "execution_count": 42
        }
      ]
    },
    {
      "cell_type": "markdown",
      "source": [
        "Kemudian kita gunakan model linear regression untuk memprediksi 'price' dengan menggunakan fitur 'sqft_living' kemudian hitung R^2. "
      ],
      "metadata": {
        "id": "Pdhr6ouhCQyS"
      }
    },
    {
      "cell_type": "code",
      "source": [
        "x=df[['sqft_living']]\n",
        "y=df.price\n",
        "lr=LinearRegression()\n",
        "lr.fit(x,y)\n",
        "lr.score(x,y)"
      ],
      "metadata": {
        "id": "KA3U9UN8CQ6g",
        "outputId": "860ff14d-2ae1-499a-8052-6ea26c94a079",
        "colab": {
          "base_uri": "https://localhost:8080/"
        }
      },
      "execution_count": null,
      "outputs": [
        {
          "output_type": "execute_result",
          "data": {
            "text/plain": [
              "0.4928532179037931"
            ]
          },
          "metadata": {},
          "execution_count": 43
        }
      ]
    },
    {
      "cell_type": "markdown",
      "source": [
        "*Karena pada pengecekan variabel yang ada tidak ada yang memiliki hubungan kuat dengan harga, maka kita akan menggabungkan semua variabel tersebut kedalam suatu fitur.*"
      ],
      "metadata": {
        "id": "yesf7Py-DecO"
      }
    },
    {
      "cell_type": "markdown",
      "source": [
        "Gunakan model linear regression untuk memprediksi 'price' menggunakan daftar fitur sbb:"
      ],
      "metadata": {
        "id": "Yp6M5pWlCbnf"
      }
    },
    {
      "cell_type": "code",
      "source": [
        "features =[\"floors\", \"waterfront\",\"lat\" ,\"bedrooms\" ,\"sqft_basement\" ,\"view\" ,\"bathrooms\",\"sqft_living15\",\"sqft_above\",\"grade\",\"sqft_living\"]     "
      ],
      "metadata": {
        "id": "4JzljiK8CbJE"
      },
      "execution_count": null,
      "outputs": []
    },
    {
      "cell_type": "markdown",
      "source": [
        "Kemudian hitung R^2. "
      ],
      "metadata": {
        "id": "PrFbXwvXCrkO"
      }
    },
    {
      "cell_type": "code",
      "source": [
        "x=df[features]\n",
        "y=df.price\n",
        "lr.fit(x,y)\n",
        "lr.score(x,y)"
      ],
      "metadata": {
        "id": "Njs4lmE_Cqoh",
        "outputId": "b053e99a-a52c-4f8f-b694-7984bdea2a61",
        "colab": {
          "base_uri": "https://localhost:8080/"
        }
      },
      "execution_count": null,
      "outputs": [
        {
          "output_type": "execute_result",
          "data": {
            "text/plain": [
              "0.6576537175949295"
            ]
          },
          "metadata": {},
          "execution_count": 45
        }
      ]
    },
    {
      "cell_type": "markdown",
      "source": [
        ">Buatlah list of tuples, dengan elemen pertama dari tuple berisikan nama dari estimator: \n",
        ">>'scale'\n",
        "\n",
        ">>'polynomial'\n",
        "\n",
        ">>'model'\n",
        "\n",
        ">Dan elemen kedua dari tuple berisi model constructor\n",
        "\n",
        ">>StandardScaler()\n",
        "\n",
        ">>PolynomialFeatures(include_bias=False)\n",
        "\n",
        ">>LinearRegression()"
      ],
      "metadata": {
        "id": "wd2OLkTzCx4o"
      }
    },
    {
      "cell_type": "code",
      "source": [
        "Input=[('scale',StandardScaler()),('polynomial', PolynomialFeatures(include_bias=False)),('model',LinearRegression())]"
      ],
      "metadata": {
        "id": "3DMbmke2CxC8"
      },
      "execution_count": null,
      "outputs": []
    },
    {
      "cell_type": "markdown",
      "source": [
        "Gunakan list tsb untuk membuat pipeline object untuk memprediksi 'price', fit object tsb menggunakan features di dalam list features, dan hitung R^2."
      ],
      "metadata": {
        "id": "ZZdWzg8UDGdy"
      }
    },
    {
      "cell_type": "code",
      "source": [
        "x=df[features]\n",
        "y=df.price\n",
        "pipe=Pipeline(Input)\n",
        "pipe.fit(x,y)\n",
        "pipe.score(x,y)"
      ],
      "metadata": {
        "id": "tmi_ZoqrC1nC",
        "outputId": "affc925b-cee6-4e31-8761-d4600e8b47c6",
        "colab": {
          "base_uri": "https://localhost:8080/"
        }
      },
      "execution_count": null,
      "outputs": [
        {
          "output_type": "execute_result",
          "data": {
            "text/plain": [
              "0.7513413874579267"
            ]
          },
          "metadata": {},
          "execution_count": 47
        }
      ]
    },
    {
      "cell_type": "markdown",
      "source": [
        "### 6 Model Evaluation and Refinement"
      ],
      "metadata": {
        "id": "bY7yZKOVDca9"
      }
    },
    {
      "cell_type": "markdown",
      "source": [
        "Impor modules yang diperlukan:"
      ],
      "metadata": {
        "id": "HUij6cI6Dg5X"
      }
    },
    {
      "cell_type": "code",
      "source": [
        "from sklearn.model_selection import cross_val_score\n",
        "from sklearn.model_selection import train_test_split\n",
        "print(\"done\")"
      ],
      "metadata": {
        "id": "24eL2R96C1uE",
        "outputId": "506a85a3-9ee4-4eb5-920a-2e439f0186bb",
        "colab": {
          "base_uri": "https://localhost:8080/"
        }
      },
      "execution_count": null,
      "outputs": [
        {
          "output_type": "stream",
          "name": "stdout",
          "text": [
            "done\n"
          ]
        }
      ]
    },
    {
      "cell_type": "markdown",
      "source": [
        "Kita akan membagi data menjadi training dan testing sets: "
      ],
      "metadata": {
        "id": "0dHqtVNoDnng"
      }
    },
    {
      "cell_type": "code",
      "source": [
        "features =[\"floors\", \"waterfront\",\"lat\" ,\"bedrooms\" ,\"sqft_basement\" ,\"view\" ,\"bathrooms\",\"sqft_living15\",\"sqft_above\",\"grade\",\"sqft_living\"]    \n",
        "X = df[features]\n",
        "Y = df['price']\n",
        "\n",
        "x_train, x_test, y_train, y_test = train_test_split(X, Y, test_size=0.15, random_state=1)\n",
        "\n",
        "\n",
        "print(\"number of test samples:\", x_test.shape[0])\n",
        "print(\"number of training samples:\",x_train.shape[0])"
      ],
      "metadata": {
        "id": "Q0v81-RxC1wl",
        "outputId": "86e8252d-cb1c-41b2-83b3-f3fbc6729053",
        "colab": {
          "base_uri": "https://localhost:8080/"
        }
      },
      "execution_count": null,
      "outputs": [
        {
          "output_type": "stream",
          "name": "stdout",
          "text": [
            "number of test samples: 3242\n",
            "number of training samples: 18371\n"
          ]
        }
      ]
    },
    {
      "cell_type": "markdown",
      "source": [
        "Source : https://towardsdatascience.com/ridge-regression-for-better-usage-2f19b3a202db\n",
        "\n",
        "Ridge regression is a method of estimating the coefficients of multiple-regression models in scenarios where linearly independent variables are highly correlated. It has been used in many fields including econometrics, chemistry, and engineering.\n",
        "\n",
        "The theory was first introduced by Hoerl and Kennard in 1970 in their Technometrics papers “RIDGE regressions: biased estimation of nonorthogonal problems” and “RIDGE regressions: applications in nonorthogonal problems”. This was the result of ten years of research into the field of ridge analysis.\n",
        "\n",
        "Ridge regression was developed as a possible solution to the imprecision of least square estimators when linear regression models have some multicollinear (highly correlated) independent variables—by creating a ridge regression estimator (RR). This provides a more precise ridge parameters estimate, as its variance and mean square estimator are often smaller than the least square estimators previously derived.\n",
        "\n",
        "![image.png](data:image/png;base64,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)\n",
        "\n",
        "In short : \n",
        "Ridge regression is a model tuning method that is used to analyse any data that suffers from multicollinearity. This method performs L2 regularization. When the issue of multicollinearity occurs, least-squares are unbiased, and variances are large, this results in predicted values being far away from the actual values. "
      ],
      "metadata": {
        "id": "AC-CL3X7MD5-"
      }
    },
    {
      "cell_type": "markdown",
      "source": [
        "Buatlah Ridge regression object menggunakan training data, set  regularization parameter menjadi 0.1, dan hitung R^2 menggunakan test data."
      ],
      "metadata": {
        "id": "BmyVVwNIDx_o"
      }
    },
    {
      "cell_type": "code",
      "source": [
        "from sklearn.linear_model import Ridge"
      ],
      "metadata": {
        "id": "_RGioii-C1zY"
      },
      "execution_count": null,
      "outputs": []
    },
    {
      "cell_type": "markdown",
      "source": [
        "Linear least squares dengan l2 regularization.\n",
        "\n",
        "Model ini merupakan solusi regression model dimana loss function merupakan fungsi linear least square dan regularization ditentukan oleh l2-norm. Yang juga dikenal sebagai Ridge Regression or Tikhonov regularization. Estimator ini memiliki built-in support untuk multi-variate regression (i.e., saat y merupakan 2d-array dari shape [n_samples, n_targets])."
      ],
      "metadata": {
        "id": "qFgf2mKHOZVe"
      }
    },
    {
      "cell_type": "code",
      "source": [
        "rm=Ridge(alpha=0.1)\n",
        "rm.fit(x_train,y_train)\n",
        "rm.score(x_test,y_test)"
      ],
      "metadata": {
        "id": "ZuxWlT3ND164",
        "outputId": "beb89d9d-6053-40e8-8413-703fa61d835b",
        "colab": {
          "base_uri": "https://localhost:8080/"
        }
      },
      "execution_count": null,
      "outputs": [
        {
          "output_type": "execute_result",
          "data": {
            "text/plain": [
              "0.6478759163939114"
            ]
          },
          "metadata": {},
          "execution_count": 51
        }
      ]
    },
    {
      "cell_type": "markdown",
      "source": [
        "Lakukan transformasi second order polynomial pada training data dan testing data. Buatlah Ridge regression object menggunakan training data, set regularisation parameter menjadi 0.1, dan hitung R^2 menggunakan test data yang ada. "
      ],
      "metadata": {
        "id": "zSNaQUsED7-k"
      }
    },
    {
      "cell_type": "code",
      "source": [
        "pr=PolynomialFeatures(degree=2) #second order polynomial\n",
        "x_train_pr=pr.fit_transform(x_train) #train data\n",
        "x_test_pr=pr.fit_transform(x_test) #test data\n",
        "\n",
        "rr=Ridge(alpha=0.1) #Regularization strength; must be a positive float. Regularization improves the conditioning of the problem and reduces the variance of the estimates. Larger values specify stronger regularization.\n",
        "rr.fit(x_train_pr,y_train)\n",
        "rr.score(x_test_pr,y_test)"
      ],
      "metadata": {
        "id": "qvbcpwT0D2DB",
        "outputId": "f8b194e4-c2fc-410c-cc7f-cf8dfb61487a",
        "colab": {
          "base_uri": "https://localhost:8080/"
        }
      },
      "execution_count": null,
      "outputs": [
        {
          "output_type": "execute_result",
          "data": {
            "text/plain": [
              "0.7002744296219889"
            ]
          },
          "metadata": {},
          "execution_count": 52
        }
      ]
    }
  ]
}